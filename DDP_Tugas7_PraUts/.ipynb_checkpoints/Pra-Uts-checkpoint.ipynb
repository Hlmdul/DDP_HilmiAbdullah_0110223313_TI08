{
 "cells": [
  {
   "cell_type": "code",
   "execution_count": 3,
   "id": "6fd40752",
   "metadata": {},
   "outputs": [
    {
     "name": "stdout",
     "output_type": "stream",
     "text": [
      "Jenis Kendaraan: motor\n",
      "Jenis Bensin: pertalite\n",
      "Kota Tujuan: jakarta\n",
      "\n",
      "    Detail Perjalanan:\n",
      "Jenis Kendaraan: motor\n",
      "Jenis Bensin: pertalite\n",
      "Kota Tujuan: jakarta\n",
      "Pemakaian Bensin: 2 Liter\n",
      "Total Harga: Rp. 20000\n"
     ]
    }
   ],
   "source": [
    "JenisKendaraan = input('Jenis Kendaraan: ')\n",
    "JenisBensin = input('Jenis Bensin: ')\n",
    "KotaTujuan = input('Kota Tujuan: ')\n",
    "\n",
    "if JenisKendaraan.lower() == 'motor':\n",
    "    if JenisBensin.lower() == 'pertalite':\n",
    "        Harga = 10000\n",
    "        JarakTempuh = 12\n",
    "        if KotaTujuan.lower() == 'jakarta':\n",
    "            JarakKota = 20\n",
    "            print(\n",
    "                '''\n",
    "    Detail Perjalanan:\n",
    "Jenis Kendaraan: {}\n",
    "Jenis Bensin: {}\n",
    "Kota Tujuan: {}\n",
    "Pemakaian Bensin: {} Liter\n",
    "Total Harga: Rp. {}'''.format(\n",
    "                    JenisKendaraan,\n",
    "                    JenisBensin,\n",
    "                    KotaTujuan,\n",
    "                    round(JarakKota / JarakTempuh),\n",
    "                    round((JarakKota / JarakTempuh)) * Harga\n",
    "                )\n",
    "            )\n",
    "    elif JenisBensin.lower() == 'pertamax':\n",
    "        Harga = 14000\n",
    "        JarakTempuh = 13\n",
    "        if KotaTujuan.lower() == 'jakarta':\n",
    "            JarakKota = 20\n",
    "            print(\n",
    "                '''\n",
    "    Detail Perjalanan:\n",
    "Jenis Kendaraan: {}\n",
    "Jenis Bensin: {}\n",
    "Kota Tujuan: {}\n",
    "Pemakaian Bensin: {} Liter\n",
    "Total Harga: Rp. {}'''.format(\n",
    "                    JenisKendaraan,\n",
    "                    JenisBensin,\n",
    "                    KotaTujuan,\n",
    "                    round(JarakKota / JarakTempuh),\n",
    "                    round((JarakKota / JarakTempuh)) * Harga\n",
    "                )\n",
    "            )\n",
    "\n",
    "# else JenisKendaraan.lower() == 'mobil':\n",
    "#     print('Tarif Parkir Mobil: Rp. 5000')\n",
    "# else:\n",
    "#     print('Jenis Kendaraan Tidak Diketahui')"
   ]
  },
  {
   "cell_type": "code",
   "execution_count": 14,
   "id": "10c12614",
   "metadata": {},
   "outputs": [
    {
     "name": "stdout",
     "output_type": "stream",
     "text": [
      " \n",
      "Selamat datang di Warkop Barokah.\n",
      "Untuk melakukan pemesanan makanan/minuman,\n",
      "silakan isi form di bawah ini\n",
      "\n",
      "Nama Anda >>> \n",
      "aa\n",
      "Masukkan No HP Pembeli: aa\n",
      "ingin pesan makanan atau minuman?makanan\n",
      "pilih makanan nasigoreng\n",
      "Masukkan jumlah pesanan11\n",
      "Apakah Anda ingin membeli lagi? (y/n): y\n",
      "ingin pesan makanan atau minuman?makanan\n",
      "pilih makanan kikil\n",
      "Masukkan jumlah pesanan20\n",
      "Apakah Anda ingin membeli lagi? (y/n): n\n",
      "Pesanan anda adalah \n",
      "11 nasigoreng dengan harga Rp1000 x 11 = Rp11000\n",
      "20 kikil dengan harga Rp1000 x 20 = Rp20000\n",
      "Total pesanan anda adalah Rp 31000\n"
     ]
    }
   ],
   "source": [
    "NamaPembeli = input(''' \n",
    "Selamat datang di Warkop Barokah.\n",
    "Untuk melakukan pemesanan makanan/minuman,\n",
    "silakan isi form di bawah ini\n",
    "\n",
    "Nama Anda:\n",
    ">>> ''')\n",
    "NoHpPembeli = input('''\n",
    "No HP Anda:\n",
    ">>> ''')\n",
    "Pesanan = []\n",
    "Harga = []\n",
    "Jumlah = []\n",
    "TotalHarga = []\n",
    "\n",
    "tanya = 'y'\n",
    "while tanya == 'y':\n",
    "    MakanMinum = input('ingin pesan makanan atau minuman?')\n",
    "    if MakanMinum.lower() == 'makanan':\n",
    "        Makanan = input('''pilih makanan ''')\n",
    "        JumlahPesanan = input('Masukkan jumlah pesanan')\n",
    "        Pesanan.append(Makanan)\n",
    "        Jumlah.append(JumlahPesanan)\n",
    "        Harga.append('1000')\n",
    "    elif MakanMinum.lower() == 'minuman':\n",
    "        Minuman = input('''pilih minuman ''')\n",
    "        JumlahPesanan = input('Masukkan jumlah pesanan')\n",
    "        Pesanan.append(Minuman)\n",
    "        Jumlah.append(JumlahPesanan)\n",
    "        Harga.append('1000')\n",
    "    tanya = input(\"Apakah Anda ingin membeli lagi? (y/n): \")\n",
    "    if tanya == 'n':\n",
    "        break\n",
    "print('Pesanan anda adalah ')\n",
    "for i in range(len(Pesanan)):\n",
    "    print('{} {} dengan harga Rp{} x {} = Rp{}'.format(Jumlah[i],Pesanan[i],Harga[i],Jumlah[i],int(Harga[i])*int(Jumlah[i])))\n",
    "    TotalHarga.append(int(Harga[i])*int(Jumlah[i]))\n",
    "print('Total pesanan anda adalah Rp',sum(TotalHarga))\n"
   ]
  },
  {
   "cell_type": "code",
   "execution_count": 7,
   "id": "94700d39",
   "metadata": {},
   "outputs": [
    {
     "name": "stdout",
     "output_type": "stream",
     "text": [
      "3\n"
     ]
    }
   ],
   "source": [
    "print(len(Pesanan))"
   ]
  },
  {
   "cell_type": "code",
   "execution_count": 19,
   "id": "b8d9f898",
   "metadata": {},
   "outputs": [
    {
     "data": {
      "text/plain": [
       "2"
      ]
     },
     "execution_count": 19,
     "metadata": {},
     "output_type": "execute_result"
    }
   ],
   "source": [
    "6%3"
   ]
  },
  {
   "cell_type": "code",
   "execution_count": null,
   "id": "4b52c7bd",
   "metadata": {},
   "outputs": [],
   "source": []
  }
 ],
 "metadata": {
  "kernelspec": {
   "display_name": "Python 3 (ipykernel)",
   "language": "python",
   "name": "python3"
  },
  "language_info": {
   "codemirror_mode": {
    "name": "ipython",
    "version": 3
   },
   "file_extension": ".py",
   "mimetype": "text/x-python",
   "name": "python",
   "nbconvert_exporter": "python",
   "pygments_lexer": "ipython3",
   "version": "3.11.4"
  }
 },
 "nbformat": 4,
 "nbformat_minor": 5
}
