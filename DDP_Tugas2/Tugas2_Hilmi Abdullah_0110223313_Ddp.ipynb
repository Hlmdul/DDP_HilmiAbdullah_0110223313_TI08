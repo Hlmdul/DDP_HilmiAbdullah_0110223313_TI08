{
 "cells": [
  {
   "cell_type": "code",
   "execution_count": 2,
   "metadata": {
    "colab": {
     "base_uri": "https://localhost:8080/"
    },
    "executionInfo": {
     "elapsed": 942,
     "status": "ok",
     "timestamp": 1696316553661,
     "user": {
      "displayName": "Hilmi Abdullah",
      "userId": "05897634841671888581"
     },
     "user_tz": -420
    },
    "id": "UwFZY_mGTLa4",
    "outputId": "b6e2f04d-0703-4644-8cab-35d21db0b649"
   },
   "outputs": [
    {
     "name": "stdout",
     "output_type": "stream",
     "text": [
      "hello, world\n",
      "halo nama saya Hilmi, NIM saya 0110223313, saya tinggal di komplek timah\n",
      "nama teman saya adalah Jamal, NIM jamal adalah 011023248, jamal ngekos di gang arus\n",
      "2\n",
      "1\n",
      "3\n",
      "5.0\n"
     ]
    }
   ],
   "source": [
    "print('hello, world')\n",
    "print('halo nama saya Hilmi, NIM saya 0110223313, saya tinggal di komplek timah')\n",
    "print('nama teman saya adalah Jamal, NIM jamal adalah 011023248, jamal ngekos di gang arus')\n",
    "\n",
    "penjumlahan = 1+1\n",
    "print(penjumlahan)\n",
    "\n",
    "pengurangan = 2-1\n",
    "print(pengurangan)\n",
    "\n",
    "perkalian = 3*1\n",
    "print(perkalian)\n",
    "\n",
    "pembagian = 10//2\n",
    "print(pembagian)"
   ]
  }
 ],
 "metadata": {
  "colab": {
   "authorship_tag": "ABX9TyOhhIVaS1KL8XnOI5OGErHX",
   "provenance": []
  },
  "kernelspec": {
   "display_name": "Python 3 (ipykernel)",
   "language": "python",
   "name": "python3"
  },
  "language_info": {
   "codemirror_mode": {
    "name": "ipython",
    "version": 3
   },
   "file_extension": ".py",
   "mimetype": "text/x-python",
   "name": "python",
   "nbconvert_exporter": "python",
   "pygments_lexer": "ipython3",
   "version": "3.11.4"
  }
 },
 "nbformat": 4,
 "nbformat_minor": 1
}
