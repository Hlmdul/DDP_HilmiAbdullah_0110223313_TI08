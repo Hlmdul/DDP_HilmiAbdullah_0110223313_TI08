{
 "cells": [
  {
   "cell_type": "code",
   "execution_count": 3,
   "id": "bbb52b67",
   "metadata": {},
   "outputs": [
    {
     "name": "stdout",
     "output_type": "stream",
     "text": [
      "Nama :  Hilmi Abdullah\n",
      "NIM :  0110223313\n",
      "Kelas :  TI08\n",
      "No Telp :  087796609898\n",
      "Alamat :  Komplek Timah, Depok\n"
     ]
    }
   ],
   "source": [
    "#1.buatlah program python untuk menuliskan profil probadi\n",
    "nama = 'Hilmi Abdullah'\n",
    "nim = '0110223313'\n",
    "kelas = 'TI08'\n",
    "no_telp = '087796609898'\n",
    "alamat = 'Komplek Timah, Depok'\n",
    "\n",
    "print('Nama : ',nama)\n",
    "print('NIM : ',nim)\n",
    "print('Kelas : ',kelas)\n",
    "print('No Telp : ',no_telp)\n",
    "print('Alamat : ',alamat)"
   ]
  },
  {
   "cell_type": "code",
   "execution_count": 5,
   "id": "bd5517b8",
   "metadata": {},
   "outputs": [
    {
     "name": "stdout",
     "output_type": "stream",
     "text": [
      "Nama :  Muhammad Afif\n",
      "NIM :  0110223240\n",
      "Kelas :  TI08\n",
      "No Telp :  082112535547\n",
      "Alamat :  Cilodong\n"
     ]
    }
   ],
   "source": [
    "#2.buat seperti nomor 1 tapi dengan data teman anda\n",
    "nama = 'Muhammad Afif'\n",
    "nim = '0110223240'\n",
    "kelas = 'TI08'\n",
    "no_telp = '082112535547'\n",
    "alamat = 'Cilodong'\n",
    "\n",
    "print('Nama : ',nama)\n",
    "print('NIM : ',nim)\n",
    "print('Kelas : ',kelas)\n",
    "print('No Telp : ',no_telp)\n",
    "print('Alamat : ',alamat)"
   ]
  },
  {
   "cell_type": "code",
   "execution_count": 15,
   "id": "3e0af0bf",
   "metadata": {},
   "outputs": [
    {
     "name": "stdout",
     "output_type": "stream",
     "text": [
      "Berat badan yang ideal untuk saya dengan tinggi badan  185 cm adalah 76.5 kg\n"
     ]
    }
   ],
   "source": [
    "#3.buat program python untuk mencari nilai berat badan ideal\n",
    "\n",
    "tb = 185\n",
    "persen = 10/100\n",
    "\n",
    "#Berat badan ideal (kilogram) = [tinggi badan (sentimeter) – 100] – [(tinggi badan (sentimeter) – 100) x 10 persen]\n",
    "bbi = (tb-100)-(tb-100)*persen\n",
    "\n",
    "print('Berat badan yang ideal untuk saya dengan tinggi badan ',tb,'cm adalah',bbi,'kg')"
   ]
  },
  {
   "cell_type": "code",
   "execution_count": 17,
   "id": "d167742e",
   "metadata": {},
   "outputs": [
    {
     "name": "stdout",
     "output_type": "stream",
     "text": [
      "suhu 120 °C, bila dikonversi kedalam Fahrenheit maka nilaainya menjadi 248.0 °F\n"
     ]
    }
   ],
   "source": [
    "#4.buat program python untuk mencari nilai konversi dari celcius ke fahrenheit\n",
    "\n",
    "C = 120\n",
    "\n",
    "#(0°C × 9/5) + 32 = 32°F\n",
    "F = (C*9/5)+32\n",
    "\n",
    "print('suhu',C,'°C, bila dikonversi kedalam Fahrenheit maka nilainya menjadi',F,'°F')"
   ]
  },
  {
   "cell_type": "code",
   "execution_count": 1,
   "id": "27057415",
   "metadata": {},
   "outputs": [
    {
     "name": "stdout",
     "output_type": "stream",
     "text": [
      "Luas permukaan tabung dengan tinggi 10cm dan jari-jari alas 10cm adalah 1256.0cm**2\n",
      "Sedangkan keliling permukaan tabung dengan tinggi dan jari-jari yang sama adalah 271cm\n"
     ]
    }
   ],
   "source": [
    "#5.buat program python untuk mencari luas dan keliling tabung\n",
    "r = 10\n",
    "t = 10\n",
    "pi = 3.14\n",
    "\n",
    "#luas alas tabung = π x r²\n",
    "luas_alas = pi*r**2\n",
    "\n",
    "#luas selimut tabung = 2 x π x r x t\n",
    "luas_selimut = 2*pi*r*t\n",
    "\n",
    "#luas permukaan tabung tanpa tutup = luas alas + luas selimut\n",
    "luas_tanpa_tutup = luas_alas + luas_selimut\n",
    "\n",
    "#luas permukaan tabung dengan tutup = 2 x luas alas + luas selimut\n",
    "luas_dengan_tutup = 2*luas_alas + luas_selimut\n",
    "\n",
    "#keliling alas tabung = 2 x π x r\n",
    "keliling_alas = 2*pi*r\n",
    "\n",
    "#keliling selimut tabung = 2(alas tabung) + 2(t)\n",
    "keliling_selimut = (2*keliling_alas) + (2*t)\n",
    "\n",
    "#keliling permukaan tabung = 2*keliling alas + keliling selimut\n",
    "keliling_permukaan = 2*keliling_alas + keliling_selimut\n",
    "\n",
    "print('Luas permukaan tabung dengan tinggi {}cm dan jari-jari alas {}cm adalah {}cm**2'.format(t,r,luas_dengan_tutup))\n",
    "print('Sedangkan keliling permukaan tabung dengan tinggi dan jari-jari yang sama adalah {}cm'.format(int(keliling_permukaan)))\n",
    "\n",
    "#sumber rumus : https://brainly.co.id/tugas/1055257"
   ]
  },
  {
   "cell_type": "code",
   "execution_count": null,
   "id": "06b7e22b",
   "metadata": {},
   "outputs": [],
   "source": []
  },
  {
   "cell_type": "code",
   "execution_count": null,
   "id": "be8b79c1",
   "metadata": {},
   "outputs": [],
   "source": []
  }
 ],
 "metadata": {
  "kernelspec": {
   "display_name": "Python 3 (ipykernel)",
   "language": "python",
   "name": "python3"
  },
  "language_info": {
   "codemirror_mode": {
    "name": "ipython",
    "version": 3
   },
   "file_extension": ".py",
   "mimetype": "text/x-python",
   "name": "python",
   "nbconvert_exporter": "python",
   "pygments_lexer": "ipython3",
   "version": "3.11.4"
  }
 },
 "nbformat": 4,
 "nbformat_minor": 5
}
