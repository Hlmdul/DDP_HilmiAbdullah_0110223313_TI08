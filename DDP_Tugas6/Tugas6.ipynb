{
 "cells": [
  {
   "cell_type": "markdown",
   "id": "feb01766",
   "metadata": {},
   "source": [
    "## 1. Print semua bilangan ganjil dari list berikut, hentikan perulangan ketika sudah melewati bilangan 553. Pakai perulangan while.\n",
    "\n",
    "numbers = [\n",
    " 951, 402, 984, 651, 360, 69, 408, 319, 601, 485, 980, 507, 725,\n",
    "547, 544, 615, 83, 165, 141, 501, 263, 617, 865, 575, 219, 390,\n",
    "984, 592, 236, 105, 942, 941, 386, 462, 47, 418, 907, 344, 236,\n",
    "375, 823, 566, 597, 978, 328, 615, 953, 345, 399, 162, 758, 219,\n",
    "918, 237, 412, 566, 826, 248, 866, 950, 626, 949, 687, 217, 815,\n",
    "67, 104, 58, 512, 24, 892, 894, 767, 553, 81, 379, 843, 831, 445,\n",
    "742, 717, 958, 609, 842, 451, 688, 753, 854, 685, 93, 857, 440,\n",
    "380, 126, 721, 328, 753, 470, 743, 527\n",
    "]"
   ]
  },
  {
   "cell_type": "code",
   "execution_count": 5,
   "id": "e5c1e553",
   "metadata": {},
   "outputs": [
    {
     "name": "stdout",
     "output_type": "stream",
     "text": [
      "951, 651, 69, 319, 601, 485, 507, 725, 547, 615, 83, 165, 141, 501, 263, 617, 865, 575, 219, 105, 941, 47, 907, 375, 823, 597, 615, 953, 345, 399, 219, 237, 949, 687, 217, 815, 67, 767, 553, "
     ]
    }
   ],
   "source": [
    "#ver1\n",
    "numbers = [951, 402, 984, 651, 360, 69, 408, 319, 601, 485, 980, 507, 725, 547, 544, 615, 83, 165, 141,\n",
    "           501, 263, 617, 865, 575, 219, 390, 984, 592, 236, 105, 942, 941, 386, 462, 47, 418, 907, 344,\n",
    "           236, 375, 823, 566, 597, 978, 328, 615, 953, 345, 399, 162, 758, 219, 918, 237, 412, 566, 826,\n",
    "           248, 866, 950, 626, 949, 687, 217, 815, 67, 104, 58, 512, 24, 892, 894, 767, 553, 81, 379, 843,\n",
    "           831, 445, 742, 717, 958, 609, 842, 451, 688, 753, 854, 685, 93, 857, 440, 380, 126, 721, 328, 753, 470, 743, 527] \n",
    "\n",
    "i=0\n",
    "while i<=numbers.index(553):\n",
    "    if numbers[i]%2 != 0:\n",
    "        print(numbers[i], end=', ')\n",
    "    i+=1"
   ]
  },
  {
   "cell_type": "code",
   "execution_count": 3,
   "id": "7295c418",
   "metadata": {},
   "outputs": [
    {
     "name": "stdout",
     "output_type": "stream",
     "text": [
      "Program ini akan mem-print semua bilangan ganjil dari list \"numbers\",\n",
      "dan akan berhenti ketika bertemu bilangan yang anda input.\n",
      "\n",
      "sebutkan bilangan yang anda inginkan: 717\n",
      "bilangan yang anda input adalah 717, maka hasil proses print adalah: \n",
      "951, 651, 69, 319, 601, 485, 507, 725, 547, 615, 83, 165, 141, 501, 263, 617, 865, 575, 219, 105, 941, 47, 907, 375, 823, 597, 615, 953, 345, 399, 219, 237, 949, 687, 217, 815, 67, 767, 553, 81, 379, 843, 831, 445, 717, "
     ]
    }
   ],
   "source": [
    "#ver2\n",
    "numbers = [951, 402, 984, 651, 360, 69, 408, 319, 601, 485, 980, 507, 725, 547, 544, 615, 83, 165, 141,\n",
    "           501, 263, 617, 865, 575, 219, 390, 984, 592, 236, 105, 942, 941, 386, 462, 47, 418, 907, 344,\n",
    "           236, 375, 823, 566, 597, 978, 328, 615, 953, 345, 399, 162, 758, 219, 918, 237, 412, 566, 826,\n",
    "           248, 866, 950, 626, 949, 687, 217, 815, 67, 104, 58, 512, 24, 892, 894, 767, 553, 81, 379, 843,\n",
    "           831, 445, 742, 717, 958, 609, 842, 451, 688, 753, 854, 685, 93, 857, 440, 380, 126, 721, 328, 753, 470, 743, 527] \n",
    "\n",
    "i=0\n",
    "bilangan = int(input('''Program ini akan mem-print semua bilangan ganjil dari list \"numbers\",\n",
    "dan akan berhenti ketika bertemu bilangan yang anda input.\n",
    "\n",
    "sebutkan bilangan yang anda inginkan: '''))\n",
    "if bilangan in numbers:\n",
    "    print('bilangan yang anda input adalah {}, maka hasil proses print adalah: '.format(bilangan))\n",
    "    while i<=numbers.index(bilangan):\n",
    "        if numbers[i]%2!=0:\n",
    "            print(numbers[i], end=\", \")\n",
    "        i+=1\n",
    "else:\n",
    "    print('bilangan {} tidak ada dalam list, silakan input bilangan lain.'.format(bilangan))"
   ]
  },
  {
   "cell_type": "markdown",
   "id": "874d15a3",
   "metadata": {},
   "source": [
    "## 2. Buat lah output dari menggunakan bahasa pemprograman python dengan : \n",
    "1 + 3 + 5 + 7 +9 +11 +13 + 15 +17 +19 = ..."
   ]
  },
  {
   "cell_type": "code",
   "execution_count": 3,
   "id": "10ba2954",
   "metadata": {},
   "outputs": [
    {
     "name": "stdout",
     "output_type": "stream",
     "text": [
      "1 + 3 + 5 + 7 + 9 + 11 + 13 + 15 + 17 + 19 = 100\n"
     ]
    }
   ],
   "source": [
    "#ver1\n",
    "for i in range(1,20,2):\n",
    "    if i<19:\n",
    "        print(i, end=' + ')\n",
    "    else:\n",
    "        print(i, end=\" \")\n",
    "\n",
    "print('=',sum(range(1,20,2)))"
   ]
  },
  {
   "cell_type": "code",
   "execution_count": 4,
   "id": "c6e77eee",
   "metadata": {},
   "outputs": [
    {
     "name": "stdout",
     "output_type": "stream",
     "text": [
      "\n",
      "program ini akan menjumlahkan bilangan ganjil dari 1 sampai batas bilangan yang anda input.\n",
      "Masukkan batas bilangan: 100\n",
      "Anda menentukan {} sebagai batas, maka dihasilkan penjumlahan: \n",
      "1 + 3 + 5 + 7 + 9 + 11 + 13 + 15 + 17 + 19 + 21 + 23 + 25 + 27 + 29 + 31 + 33 + 35 + 37 + 39 + 41 + 43 + 45 + 47 + 49 + 51 + 53 + 55 + 57 + 59 + 61 + 63 + 65 + 67 + 69 + 71 + 73 + 75 + 77 + 79 + 81 + 83 + 85 + 87 + 89 + 91 + 93 + 95 + 97 + 99 = 2500\n"
     ]
    }
   ],
   "source": [
    "#ver2\n",
    "batas = int(input('''\n",
    "program ini akan menjumlahkan bilangan ganjil dari 1 sampai batas bilangan yang anda input.\n",
    "Masukkan batas bilangan: '''))\n",
    "print('Anda menentukan {} sebagai batas, maka dihasilkan penjumlahan: ')\n",
    "for i in range(1,batas,2):\n",
    "    if i<(batas-1):\n",
    "        print(i, end=' + ')\n",
    "    else:\n",
    "        print(i, end=' ')\n",
    "\n",
    "print('=',sum(range(1,batas,2)))"
   ]
  },
  {
   "cell_type": "markdown",
   "id": "5b724ad6",
   "metadata": {},
   "source": [
    "## 3.Buat program untuk minta input jumlah baris dan buat rangkaian berikut ini\n",
    "*\n",
    "**\n",
    "***\n",
    "****\n",
    "Dan seterusnya sejumlah baris yang diinputkan\n",
    "Gunakan for loop dengan range\n"
   ]
  },
  {
   "cell_type": "code",
   "execution_count": 6,
   "id": "6821c4a0",
   "metadata": {},
   "outputs": [
    {
     "name": "stdout",
     "output_type": "stream",
     "text": [
      "program ini berfungsi untuk mencetak tanda bintang(*) sebanyak jumlah baris yang anda inginkan\n",
      "jumlah bintang menyesuaikan barisnya,\n",
      "misal: jumlah bintang pada baris ke-1 adalah 1 bintang, jumlah bintang pada baris ke-2 adalah 2 bintang, dan seterusnya.\n",
      "\n",
      "masukkan jumlah barisan bintang yang ingin anda cetak: 5\n",
      "mencetak 5 baris bintang...\n",
      "*\n",
      "**\n",
      "***\n",
      "****\n",
      "*****\n"
     ]
    }
   ],
   "source": [
    "bintang = '*'\n",
    "x=1\n",
    "pertanyaan=int(input('''program ini berfungsi untuk mencetak tanda bintang(*) sebanyak jumlah baris yang anda inginkan\n",
    "jumlah bintang menyesuaikan barisnya,\n",
    "misal: jumlah bintang pada baris ke-1 adalah 1 bintang, jumlah bintang pada baris ke-2 adalah 2 bintang, dan seterusnya.\n",
    "\n",
    "masukkan jumlah barisan bintang yang ingin anda cetak: '''))\n",
    "print('mencetak {} baris bintang...'.format(pertanyaan))\n",
    "for i in range(pertanyaan):\n",
    "    print(bintang*x)\n",
    "    x+=1"
   ]
  },
  {
   "cell_type": "code",
   "execution_count": null,
   "id": "8aab216e",
   "metadata": {},
   "outputs": [],
   "source": []
  }
 ],
 "metadata": {
  "kernelspec": {
   "display_name": "Python 3 (ipykernel)",
   "language": "python",
   "name": "python3"
  },
  "language_info": {
   "codemirror_mode": {
    "name": "ipython",
    "version": 3
   },
   "file_extension": ".py",
   "mimetype": "text/x-python",
   "name": "python",
   "nbconvert_exporter": "python",
   "pygments_lexer": "ipython3",
   "version": "3.11.4"
  }
 },
 "nbformat": 4,
 "nbformat_minor": 5
}
